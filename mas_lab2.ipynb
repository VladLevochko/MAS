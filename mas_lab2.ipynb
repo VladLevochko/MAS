{
 "cells": [
  {
   "cell_type": "code",
   "execution_count": 1,
   "metadata": {},
   "outputs": [],
   "source": [
    "import pandas\n",
    "import matplotlib.pyplot as plt\n",
    "import numpy as np"
   ]
  },
  {
   "cell_type": "code",
   "execution_count": 2,
   "metadata": {},
   "outputs": [],
   "source": [
    "data_path = \"/Users/vlad/IdeaProjects/MasLabs/results_1.csv\"\n",
    "\n",
    "data = pandas.read_csv(data_path)"
   ]
  },
  {
   "cell_type": "code",
   "execution_count": 3,
   "metadata": {},
   "outputs": [
    {
     "data": {
      "text/html": [
       "<div>\n",
       "<style scoped>\n",
       "    .dataframe tbody tr th:only-of-type {\n",
       "        vertical-align: middle;\n",
       "    }\n",
       "\n",
       "    .dataframe tbody tr th {\n",
       "        vertical-align: top;\n",
       "    }\n",
       "\n",
       "    .dataframe thead th {\n",
       "        text-align: right;\n",
       "    }\n",
       "</style>\n",
       "<table border=\"1\" class=\"dataframe\">\n",
       "  <thead>\n",
       "    <tr style=\"text-align: right;\">\n",
       "      <th></th>\n",
       "      <th>drivers</th>\n",
       "      <th>coefficient</th>\n",
       "      <th>daily_income</th>\n",
       "    </tr>\n",
       "  </thead>\n",
       "  <tbody>\n",
       "    <tr>\n",
       "      <th>0</th>\n",
       "      <td>2.0</td>\n",
       "      <td>1.1</td>\n",
       "      <td>978.926652</td>\n",
       "    </tr>\n",
       "    <tr>\n",
       "      <th>1</th>\n",
       "      <td>2.0</td>\n",
       "      <td>1.2</td>\n",
       "      <td>2454.417724</td>\n",
       "    </tr>\n",
       "    <tr>\n",
       "      <th>2</th>\n",
       "      <td>2.0</td>\n",
       "      <td>1.3</td>\n",
       "      <td>2788.007756</td>\n",
       "    </tr>\n",
       "    <tr>\n",
       "      <th>3</th>\n",
       "      <td>2.0</td>\n",
       "      <td>1.4</td>\n",
       "      <td>2962.859473</td>\n",
       "    </tr>\n",
       "    <tr>\n",
       "      <th>4</th>\n",
       "      <td>3.0</td>\n",
       "      <td>1.1</td>\n",
       "      <td>2535.489356</td>\n",
       "    </tr>\n",
       "    <tr>\n",
       "      <th>5</th>\n",
       "      <td>3.0</td>\n",
       "      <td>1.2</td>\n",
       "      <td>3120.330650</td>\n",
       "    </tr>\n",
       "    <tr>\n",
       "      <th>6</th>\n",
       "      <td>3.0</td>\n",
       "      <td>1.3</td>\n",
       "      <td>3284.671991</td>\n",
       "    </tr>\n",
       "    <tr>\n",
       "      <th>7</th>\n",
       "      <td>3.0</td>\n",
       "      <td>1.4</td>\n",
       "      <td>3687.514509</td>\n",
       "    </tr>\n",
       "    <tr>\n",
       "      <th>8</th>\n",
       "      <td>4.0</td>\n",
       "      <td>1.1</td>\n",
       "      <td>2833.754177</td>\n",
       "    </tr>\n",
       "    <tr>\n",
       "      <th>9</th>\n",
       "      <td>4.0</td>\n",
       "      <td>1.2</td>\n",
       "      <td>3370.683184</td>\n",
       "    </tr>\n",
       "    <tr>\n",
       "      <th>10</th>\n",
       "      <td>4.0</td>\n",
       "      <td>1.3</td>\n",
       "      <td>3411.789799</td>\n",
       "    </tr>\n",
       "    <tr>\n",
       "      <th>11</th>\n",
       "      <td>4.0</td>\n",
       "      <td>1.4</td>\n",
       "      <td>3534.126691</td>\n",
       "    </tr>\n",
       "    <tr>\n",
       "      <th>12</th>\n",
       "      <td>5.0</td>\n",
       "      <td>1.1</td>\n",
       "      <td>2694.678683</td>\n",
       "    </tr>\n",
       "    <tr>\n",
       "      <th>13</th>\n",
       "      <td>5.0</td>\n",
       "      <td>1.2</td>\n",
       "      <td>2722.242047</td>\n",
       "    </tr>\n",
       "    <tr>\n",
       "      <th>14</th>\n",
       "      <td>5.0</td>\n",
       "      <td>1.3</td>\n",
       "      <td>2853.503113</td>\n",
       "    </tr>\n",
       "    <tr>\n",
       "      <th>15</th>\n",
       "      <td>5.0</td>\n",
       "      <td>1.4</td>\n",
       "      <td>2869.512795</td>\n",
       "    </tr>\n",
       "    <tr>\n",
       "      <th>16</th>\n",
       "      <td>6.0</td>\n",
       "      <td>1.1</td>\n",
       "      <td>2143.733258</td>\n",
       "    </tr>\n",
       "    <tr>\n",
       "      <th>17</th>\n",
       "      <td>6.0</td>\n",
       "      <td>1.2</td>\n",
       "      <td>2575.455033</td>\n",
       "    </tr>\n",
       "    <tr>\n",
       "      <th>18</th>\n",
       "      <td>6.0</td>\n",
       "      <td>1.3</td>\n",
       "      <td>1994.009254</td>\n",
       "    </tr>\n",
       "    <tr>\n",
       "      <th>19</th>\n",
       "      <td>6.0</td>\n",
       "      <td>1.4</td>\n",
       "      <td>2526.562798</td>\n",
       "    </tr>\n",
       "    <tr>\n",
       "      <th>20</th>\n",
       "      <td>7.0</td>\n",
       "      <td>1.1</td>\n",
       "      <td>1814.614997</td>\n",
       "    </tr>\n",
       "    <tr>\n",
       "      <th>21</th>\n",
       "      <td>7.0</td>\n",
       "      <td>1.2</td>\n",
       "      <td>1823.782503</td>\n",
       "    </tr>\n",
       "    <tr>\n",
       "      <th>22</th>\n",
       "      <td>7.0</td>\n",
       "      <td>1.3</td>\n",
       "      <td>2190.063445</td>\n",
       "    </tr>\n",
       "    <tr>\n",
       "      <th>23</th>\n",
       "      <td>7.0</td>\n",
       "      <td>1.4</td>\n",
       "      <td>2169.321145</td>\n",
       "    </tr>\n",
       "  </tbody>\n",
       "</table>\n",
       "</div>"
      ],
      "text/plain": [
       "    drivers  coefficient  daily_income\n",
       "0       2.0          1.1    978.926652\n",
       "1       2.0          1.2   2454.417724\n",
       "2       2.0          1.3   2788.007756\n",
       "3       2.0          1.4   2962.859473\n",
       "4       3.0          1.1   2535.489356\n",
       "5       3.0          1.2   3120.330650\n",
       "6       3.0          1.3   3284.671991\n",
       "7       3.0          1.4   3687.514509\n",
       "8       4.0          1.1   2833.754177\n",
       "9       4.0          1.2   3370.683184\n",
       "10      4.0          1.3   3411.789799\n",
       "11      4.0          1.4   3534.126691\n",
       "12      5.0          1.1   2694.678683\n",
       "13      5.0          1.2   2722.242047\n",
       "14      5.0          1.3   2853.503113\n",
       "15      5.0          1.4   2869.512795\n",
       "16      6.0          1.1   2143.733258\n",
       "17      6.0          1.2   2575.455033\n",
       "18      6.0          1.3   1994.009254\n",
       "19      6.0          1.4   2526.562798\n",
       "20      7.0          1.1   1814.614997\n",
       "21      7.0          1.2   1823.782503\n",
       "22      7.0          1.3   2190.063445\n",
       "23      7.0          1.4   2169.321145"
      ]
     },
     "execution_count": 3,
     "metadata": {},
     "output_type": "execute_result"
    }
   ],
   "source": [
    "data"
   ]
  },
  {
   "cell_type": "code",
   "execution_count": 4,
   "metadata": {},
   "outputs": [],
   "source": [
    "incomes = data[\"daily_income\"].values.reshape(-1, 4)\n",
    "coefs = data[\"coefficient\"].unique()\n",
    "drivers = data[\"drivers\"].unique()\n",
    "ranges = [coefs.min(), coefs.max(), drivers.max()]"
   ]
  },
  {
   "cell_type": "code",
   "execution_count": 5,
   "metadata": {},
   "outputs": [
    {
     "data": {
      "text/plain": [
       "<matplotlib.image.AxesImage at 0x10f694c90>"
      ]
     },
     "execution_count": 5,
     "metadata": {},
     "output_type": "execute_result"
    },
    {
     "data": {
      "image/png": "[encoded data removed]",
      "text/plain": [
       "<Figure size 432x288 with 1 Axes>"
      ]
     },
     "metadata": {
      "needs_background": "light"
     },
     "output_type": "display_data"
    }
   ],
   "source": [
    "plt.imshow(incomes, cmap=plt.cm.OrRd, extent=ranges, aspect=\"auto\")\n"
   ]
  },
  {
   "cell_type": "code",
   "execution_count": 6,
   "metadata": {},
   "outputs": [],
   "source": [
    "balances = (incomes.T * (365 * 2 - 1) + 150000 - drivers * (15000 - 9000)).T"
   ]
  },
  {
   "cell_type": "code",
   "execution_count": 7,
   "metadata": {},
   "outputs": [
    {
     "data": {
      "text/plain": [
       "array([[ 851637.529308, 1927270.520796, 2170457.654124, 2297924.555817],\n",
       "       [1980371.740524, 2406721.04385 , 2526525.881439, 2820198.077061],\n",
       "       [2191806.795033, 2583228.041136, 2613194.763471, 2702378.357739],\n",
       "       [2084420.759907, 2104514.452263, 2200203.769377, 2211874.827555],\n",
       "       [1676781.545082, 1991506.719057, 1567632.746166, 1955864.279742],\n",
       "       [1430854.332813, 1437537.444687, 1704556.251405, 1689435.114705]])"
      ]
     },
     "execution_count": 7,
     "metadata": {},
     "output_type": "execute_result"
    }
   ],
   "source": [
    "balances"
   ]
  },
  {
   "cell_type": "code",
   "execution_count": 8,
   "metadata": {},
   "outputs": [
    {
     "data": {
      "text/plain": [
       "<matplotlib.image.AxesImage at 0x111b40710>"
      ]
     },
     "execution_count": 8,
     "metadata": {},
     "output_type": "execute_result"
    },
    {
     "data": {
      "image/png": "[encoded data removed]",
      "text/plain": [
       "<Figure size 432x288 with 1 Axes>"
      ]
     },
     "metadata": {
      "needs_background": "light"
     },
     "output_type": "display_data"
    }
   ],
   "source": [
    "plt.imshow(balances, cmap=plt.cm.OrRd, extent=ranges, aspect=\"auto\")"
   ]
  },
  {
   "cell_type": "code",
   "execution_count": 9,
   "metadata": {},
   "outputs": [
    {
     "name": "stdout",
     "output_type": "stream",
     "text": [
      "Max balance 2820198.0770610003\n",
      "Best drivers number 3.0\n",
      "Best coefficient 1.4\n"
     ]
    }
   ],
   "source": [
    "print(\"Max balance\", balances.max())\n",
    "print(\"Best drivers number\", drivers[balances.argmax() // coefs.size])\n",
    "print(\"Best coefficient\", coefs[balances.argmax() % coefs.size])"
   ]
  },
  {
   "cell_type": "code",
   "execution_count": null,
   "metadata": {},
   "outputs": [],
   "source": []
  },
  {
   "cell_type": "code",
   "execution_count": null,
   "metadata": {},
   "outputs": [],
   "source": []
  },
  {
   "cell_type": "code",
   "execution_count": 10,
   "metadata": {},
   "outputs": [],
   "source": [
    "result_2_path = \"/Users/vlad/IdeaProjects/MasLabs/results_2.csv\"\n",
    "\n",
    "results2 = pandas.read_csv(result_2_path)"
   ]
  },
  {
   "cell_type": "code",
   "execution_count": 19,
   "metadata": {},
   "outputs": [],
   "source": [
    "drivers = results2[\"drivers\"].unique()\n",
    "coefs = results2[\"coefficient\"].unique()\n",
    "incomes = results2[\"daily_income\"].values.reshape(drivers.size, coefs.size)\n",
    "ranges = [coefs.min(), coefs.max(), drivers.min(), drivers.max()]"
   ]
  },
  {
   "cell_type": "code",
   "execution_count": 20,
   "metadata": {},
   "outputs": [
    {
     "data": {
      "text/plain": [
       "array([2., 3., 4., 5., 6., 7., 8.])"
      ]
     },
     "execution_count": 20,
     "metadata": {},
     "output_type": "execute_result"
    }
   ],
   "source": [
    "drivers"
   ]
  },
  {
   "cell_type": "code",
   "execution_count": 21,
   "metadata": {},
   "outputs": [
    {
     "data": {
      "text/plain": [
       "array([[ 916.052364, 2219.712246, 3659.234811, 2617.3198  ],\n",
       "       [1883.562574, 3215.935126, 3754.427666, 4188.180476],\n",
       "       [2754.114231, 3114.671096, 3706.188126, 3766.973957],\n",
       "       [3236.985068, 3170.290775, 3418.603454, 3580.261044],\n",
       "       [2534.106224, 3008.671712, 2758.609459, 3148.117061],\n",
       "       [2190.122863, 2414.19822 , 2345.509181, 2107.288422],\n",
       "       [1600.934446, 1427.65749 , 1953.141014, 1941.735195]])"
      ]
     },
     "execution_count": 21,
     "metadata": {},
     "output_type": "execute_result"
    }
   ],
   "source": [
    "incomes"
   ]
  },
  {
   "cell_type": "code",
   "execution_count": 22,
   "metadata": {},
   "outputs": [
    {
     "data": {
      "text/plain": [
       "<matplotlib.image.AxesImage at 0x111d37b10>"
      ]
     },
     "execution_count": 22,
     "metadata": {},
     "output_type": "execute_result"
    },
    {
     "data": {
      "image/png": "[encoded data removed]",
      "text/plain": [
       "<Figure size 432x288 with 1 Axes>"
      ]
     },
     "metadata": {
      "needs_background": "light"
     },
     "output_type": "display_data"
    }
   ],
   "source": [
    "plt.imshow(incomes, cmap=plt.cm.OrRd, extent=ranges, aspect=\"auto\")"
   ]
  },
  {
   "cell_type": "code",
   "execution_count": 23,
   "metadata": {},
   "outputs": [],
   "source": [
    "balances = (incomes.T * (365 * 2 - 1) + 150000 - drivers * (15000 - 9000)).T"
   ]
  },
  {
   "cell_type": "code",
   "execution_count": 24,
   "metadata": {},
   "outputs": [
    {
     "data": {
      "text/plain": [
       "array([[ 805802.173356, 1756170.227334, 2805582.177219, 2046026.1342  ],\n",
       "       [1505117.116446, 2476416.706854, 2868977.768514, 3185183.567004],\n",
       "       [2133749.274399, 2396595.228984, 2827811.143854, 2872124.014653],\n",
       "       [2479762.114572, 2431141.974975, 2612161.917966, 2730010.301076],\n",
       "       [1961363.437296, 2307321.678048, 2125026.295611, 2408977.337469],\n",
       "       [1704599.567127, 1867950.50238 , 1817876.192949, 1644213.259638],\n",
       "       [1269081.211134, 1142762.31021 , 1525839.799206, 1517524.957155]])"
      ]
     },
     "execution_count": 24,
     "metadata": {},
     "output_type": "execute_result"
    }
   ],
   "source": [
    "balances"
   ]
  },
  {
   "cell_type": "code",
   "execution_count": 25,
   "metadata": {},
   "outputs": [
    {
     "data": {
      "text/plain": [
       "<matplotlib.image.AxesImage at 0x111f00cd0>"
      ]
     },
     "execution_count": 25,
     "metadata": {},
     "output_type": "execute_result"
    },
    {
     "data": {
      "image/png": "[encoded data removed]",
      "text/plain": [
       "<Figure size 432x288 with 1 Axes>"
      ]
     },
     "metadata": {
      "needs_background": "light"
     },
     "output_type": "display_data"
    }
   ],
   "source": [
    "plt.imshow(balances, cmap=plt.cm.OrRd, extent=ranges, aspect=\"auto\")"
   ]
  },
  {
   "cell_type": "code",
   "execution_count": 26,
   "metadata": {},
   "outputs": [
    {
     "name": "stdout",
     "output_type": "stream",
     "text": [
      "Max balance 3185183.567004\n",
      "Best drivers number 3.0\n",
      "Best coefficient 1.4\n"
     ]
    }
   ],
   "source": [
    "print(\"Max balance\", balances.max())\n",
    "print(\"Best drivers number\", drivers[balances.argmax() // coefs.size])\n",
    "print(\"Best coefficient\", coefs[balances.argmax() % coefs.size])"
   ]
  },
  {
   "cell_type": "code",
   "execution_count": null,
   "metadata": {},
   "outputs": [],
   "source": []
  }
 ],
 "metadata": {
  "kernelspec": {
   "display_name": "Python 3",
   "language": "python",
   "name": "python3"
  },
  "language_info": {
   "codemirror_mode": {
    "name": "ipython",
    "version": 3
   },
   "file_extension": ".py",
   "mimetype": "text/x-python",
   "name": "python",
   "nbconvert_exporter": "python",
   "pygments_lexer": "ipython3",
   "version": "3.7.5"
  }
 },
 "nbformat": 4,
 "nbformat_minor": 4
}
